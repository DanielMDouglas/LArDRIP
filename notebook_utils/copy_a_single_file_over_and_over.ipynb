{
 "cells": [
  {
   "cell_type": "code",
   "execution_count": 3,
   "id": "b163c97d-8f99-4118-bf8d-7c16806eeb8f",
   "metadata": {
    "tags": []
   },
   "outputs": [],
   "source": [
    "import shutil\n",
    "\n",
    "# Path to the directory containing the original npy file\n",
    "directory = '/global/cfs/projectdirs/dune/www/data/2x2/simulation/silentc_work/point_mae/Point-MAE/data/edepsim_npys/edepsim_pc/'\n",
    "\n",
    "# Name of the original npy file\n",
    "original_filename = '04401088-0.npy'\n",
    "\n",
    "# Number of copies to create\n",
    "num_copies = 390\n",
    "\n",
    "# Copying and renaming the files\n",
    "for i in range(1, num_copies):\n",
    "    new_filename = f'04401088-{i}.npy'\n",
    "    shutil.copyfile(directory + original_filename, directory + new_filename)\n"
   ]
  },
  {
   "cell_type": "code",
   "execution_count": null,
   "id": "ea1ab267-7902-46c3-8f35-f8f1a29935f7",
   "metadata": {},
   "outputs": [],
   "source": []
  }
 ],
 "metadata": {
  "kernelspec": {
   "display_name": "pytorch-2.0.1",
   "language": "python",
   "name": "pytorch-2.0.1"
  },
  "language_info": {
   "codemirror_mode": {
    "name": "ipython",
    "version": 3
   },
   "file_extension": ".py",
   "mimetype": "text/x-python",
   "name": "python",
   "nbconvert_exporter": "python",
   "pygments_lexer": "ipython3",
   "version": "3.9.16"
  }
 },
 "nbformat": 4,
 "nbformat_minor": 5
}
